{
 "cells": [
  {
   "cell_type": "markdown",
   "metadata": {
    "id": "UbGp33eY741p"
   },
   "source": [
    "## Pandas Lab Exercise (Kaggle Automobile Dataset)\n",
    "\n",
    "We shall now test your skills in using Pandas package. We will be using the [automobiles Dataset](https://www.kaggle.com/nisargpatel/automobiles/data) from Kaggle. \n",
    "\n",
    "Answer each question asked below wrt the automobiles dataset. Load pandas as pd and upload the Automobile.csv file as auto"
   ]
  },
  {
   "cell_type": "code",
   "execution_count": 1,
   "metadata": {
    "id": "PBlq1VGW741u"
   },
   "outputs": [],
   "source": [
    "import pandas as pd"
   ]
  },
  {
   "cell_type": "markdown",
   "metadata": {
    "id": "DaOkloFo741z"
   },
   "source": [
    "**Load the Automobile dataset into variable \"auto\"**"
   ]
  },
  {
   "cell_type": "code",
   "execution_count": 3,
   "metadata": {
    "id": "SbgXY9P67410"
   },
   "outputs": [],
   "source": [
    "auto=pd.read_csv(\"Automobile.csv\")"
   ]
  },
  {
   "cell_type": "markdown",
   "metadata": {
    "id": "Ojz2p4tA7412"
   },
   "source": [
    "**Check the head of the DataFrame.**"
   ]
  },
  {
   "cell_type": "code",
   "execution_count": 4,
   "metadata": {
    "colab": {
     "base_uri": "https://localhost:8080/",
     "height": 294
    },
    "id": "SkS94Img7413",
    "outputId": "94929b1c-b6c3-4e3b-e96f-96f32f7dfc3c"
   },
   "outputs": [
    {
     "data": {
      "text/html": [
       "<div>\n",
       "<style scoped>\n",
       "    .dataframe tbody tr th:only-of-type {\n",
       "        vertical-align: middle;\n",
       "    }\n",
       "\n",
       "    .dataframe tbody tr th {\n",
       "        vertical-align: top;\n",
       "    }\n",
       "\n",
       "    .dataframe thead th {\n",
       "        text-align: right;\n",
       "    }\n",
       "</style>\n",
       "<table border=\"1\" class=\"dataframe\">\n",
       "  <thead>\n",
       "    <tr style=\"text-align: right;\">\n",
       "      <th></th>\n",
       "      <th>symboling</th>\n",
       "      <th>normalized_losses</th>\n",
       "      <th>make</th>\n",
       "      <th>fuel_type</th>\n",
       "      <th>aspiration</th>\n",
       "      <th>number_of_doors</th>\n",
       "      <th>body_style</th>\n",
       "      <th>drive_wheels</th>\n",
       "      <th>engine_location</th>\n",
       "      <th>wheel_base</th>\n",
       "      <th>...</th>\n",
       "      <th>engine_size</th>\n",
       "      <th>fuel_system</th>\n",
       "      <th>bore</th>\n",
       "      <th>stroke</th>\n",
       "      <th>compression_ratio</th>\n",
       "      <th>horsepower</th>\n",
       "      <th>peak_rpm</th>\n",
       "      <th>city_mpg</th>\n",
       "      <th>highway_mpg</th>\n",
       "      <th>price</th>\n",
       "    </tr>\n",
       "  </thead>\n",
       "  <tbody>\n",
       "    <tr>\n",
       "      <th>0</th>\n",
       "      <td>3</td>\n",
       "      <td>168</td>\n",
       "      <td>alfa-romero</td>\n",
       "      <td>gas</td>\n",
       "      <td>std</td>\n",
       "      <td>two</td>\n",
       "      <td>convertible</td>\n",
       "      <td>rwd</td>\n",
       "      <td>front</td>\n",
       "      <td>88.6</td>\n",
       "      <td>...</td>\n",
       "      <td>130</td>\n",
       "      <td>mpfi</td>\n",
       "      <td>3.47</td>\n",
       "      <td>2.68</td>\n",
       "      <td>9.0</td>\n",
       "      <td>111</td>\n",
       "      <td>5000</td>\n",
       "      <td>21</td>\n",
       "      <td>27</td>\n",
       "      <td>13495</td>\n",
       "    </tr>\n",
       "    <tr>\n",
       "      <th>1</th>\n",
       "      <td>3</td>\n",
       "      <td>168</td>\n",
       "      <td>alfa-romero</td>\n",
       "      <td>gas</td>\n",
       "      <td>std</td>\n",
       "      <td>two</td>\n",
       "      <td>convertible</td>\n",
       "      <td>rwd</td>\n",
       "      <td>front</td>\n",
       "      <td>88.6</td>\n",
       "      <td>...</td>\n",
       "      <td>130</td>\n",
       "      <td>mpfi</td>\n",
       "      <td>3.47</td>\n",
       "      <td>2.68</td>\n",
       "      <td>9.0</td>\n",
       "      <td>111</td>\n",
       "      <td>5000</td>\n",
       "      <td>21</td>\n",
       "      <td>27</td>\n",
       "      <td>16500</td>\n",
       "    </tr>\n",
       "    <tr>\n",
       "      <th>2</th>\n",
       "      <td>1</td>\n",
       "      <td>168</td>\n",
       "      <td>alfa-romero</td>\n",
       "      <td>gas</td>\n",
       "      <td>std</td>\n",
       "      <td>two</td>\n",
       "      <td>hatchback</td>\n",
       "      <td>rwd</td>\n",
       "      <td>front</td>\n",
       "      <td>94.5</td>\n",
       "      <td>...</td>\n",
       "      <td>152</td>\n",
       "      <td>mpfi</td>\n",
       "      <td>2.68</td>\n",
       "      <td>3.47</td>\n",
       "      <td>9.0</td>\n",
       "      <td>154</td>\n",
       "      <td>5000</td>\n",
       "      <td>19</td>\n",
       "      <td>26</td>\n",
       "      <td>16500</td>\n",
       "    </tr>\n",
       "    <tr>\n",
       "      <th>3</th>\n",
       "      <td>2</td>\n",
       "      <td>164</td>\n",
       "      <td>audi</td>\n",
       "      <td>gas</td>\n",
       "      <td>std</td>\n",
       "      <td>four</td>\n",
       "      <td>sedan</td>\n",
       "      <td>fwd</td>\n",
       "      <td>front</td>\n",
       "      <td>99.8</td>\n",
       "      <td>...</td>\n",
       "      <td>109</td>\n",
       "      <td>mpfi</td>\n",
       "      <td>3.19</td>\n",
       "      <td>3.40</td>\n",
       "      <td>10.0</td>\n",
       "      <td>102</td>\n",
       "      <td>5500</td>\n",
       "      <td>24</td>\n",
       "      <td>30</td>\n",
       "      <td>13950</td>\n",
       "    </tr>\n",
       "    <tr>\n",
       "      <th>4</th>\n",
       "      <td>2</td>\n",
       "      <td>164</td>\n",
       "      <td>audi</td>\n",
       "      <td>gas</td>\n",
       "      <td>std</td>\n",
       "      <td>four</td>\n",
       "      <td>sedan</td>\n",
       "      <td>4wd</td>\n",
       "      <td>front</td>\n",
       "      <td>99.4</td>\n",
       "      <td>...</td>\n",
       "      <td>136</td>\n",
       "      <td>mpfi</td>\n",
       "      <td>3.19</td>\n",
       "      <td>3.40</td>\n",
       "      <td>8.0</td>\n",
       "      <td>115</td>\n",
       "      <td>5500</td>\n",
       "      <td>18</td>\n",
       "      <td>22</td>\n",
       "      <td>17450</td>\n",
       "    </tr>\n",
       "  </tbody>\n",
       "</table>\n",
       "<p>5 rows × 26 columns</p>\n",
       "</div>"
      ],
      "text/plain": [
       "   symboling  normalized_losses         make fuel_type aspiration  \\\n",
       "0          3                168  alfa-romero       gas        std   \n",
       "1          3                168  alfa-romero       gas        std   \n",
       "2          1                168  alfa-romero       gas        std   \n",
       "3          2                164         audi       gas        std   \n",
       "4          2                164         audi       gas        std   \n",
       "\n",
       "  number_of_doors   body_style drive_wheels engine_location  wheel_base  ...  \\\n",
       "0             two  convertible          rwd           front        88.6  ...   \n",
       "1             two  convertible          rwd           front        88.6  ...   \n",
       "2             two    hatchback          rwd           front        94.5  ...   \n",
       "3            four        sedan          fwd           front        99.8  ...   \n",
       "4            four        sedan          4wd           front        99.4  ...   \n",
       "\n",
       "   engine_size  fuel_system  bore  stroke compression_ratio horsepower  \\\n",
       "0          130         mpfi  3.47    2.68               9.0        111   \n",
       "1          130         mpfi  3.47    2.68               9.0        111   \n",
       "2          152         mpfi  2.68    3.47               9.0        154   \n",
       "3          109         mpfi  3.19    3.40              10.0        102   \n",
       "4          136         mpfi  3.19    3.40               8.0        115   \n",
       "\n",
       "   peak_rpm city_mpg  highway_mpg  price  \n",
       "0      5000       21           27  13495  \n",
       "1      5000       21           27  16500  \n",
       "2      5000       19           26  16500  \n",
       "3      5500       24           30  13950  \n",
       "4      5500       18           22  17450  \n",
       "\n",
       "[5 rows x 26 columns]"
      ]
     },
     "execution_count": 4,
     "metadata": {},
     "output_type": "execute_result"
    }
   ],
   "source": [
    "auto.head()"
   ]
  },
  {
   "cell_type": "markdown",
   "metadata": {
    "id": "L1Hzw3tB7416"
   },
   "source": [
    "**How many rows and columns are there?**"
   ]
  },
  {
   "cell_type": "code",
   "execution_count": 9,
   "metadata": {
    "colab": {
     "base_uri": "https://localhost:8080/"
    },
    "id": "wVRt3ZKM7416",
    "outputId": "b48da0eb-5a24-45bc-d673-a59a429b0d60"
   },
   "outputs": [
    {
     "data": {
      "text/plain": [
       "201"
      ]
     },
     "execution_count": 9,
     "metadata": {},
     "output_type": "execute_result"
    }
   ],
   "source": [
    "auto.shape[0]"
   ]
  },
  {
   "cell_type": "code",
   "execution_count": 10,
   "metadata": {
    "colab": {
     "base_uri": "https://localhost:8080/"
    },
    "id": "yq-n7WTn83lo",
    "outputId": "9bd07a59-1979-4879-9137-efb21b969d93"
   },
   "outputs": [
    {
     "data": {
      "text/plain": [
       "26"
      ]
     },
     "execution_count": 10,
     "metadata": {},
     "output_type": "execute_result"
    }
   ],
   "source": [
    "auto.shape[1]"
   ]
  },
  {
   "cell_type": "markdown",
   "metadata": {
    "id": "ddFGs8707419"
   },
   "source": [
    "**What is the average Price of all cars in the dataset?**"
   ]
  },
  {
   "cell_type": "code",
   "execution_count": 11,
   "metadata": {
    "colab": {
     "base_uri": "https://localhost:8080/"
    },
    "id": "hl4I6xd-7419",
    "outputId": "49ef1721-b305-4029-d5cb-0952c0ff548a"
   },
   "outputs": [
    {
     "data": {
      "text/plain": [
       "13207.129353233831"
      ]
     },
     "execution_count": 11,
     "metadata": {},
     "output_type": "execute_result"
    }
   ],
   "source": [
    "average = auto['price'].mean()\n",
    "average"
   ]
  },
  {
   "cell_type": "markdown",
   "metadata": {
    "id": "zdJWY8G2742A"
   },
   "source": [
    "**Which is the cheapest make and costliest make of car in the lot?**"
   ]
  },
  {
   "cell_type": "code",
   "execution_count": 12,
   "metadata": {
    "colab": {
     "base_uri": "https://localhost:8080/"
    },
    "id": "rC_xmcM7742A",
    "outputId": "2cb6c3d9-8ea0-4031-b528-c0dbf77411ef"
   },
   "outputs": [
    {
     "name": "stdout",
     "output_type": "stream",
     "text": [
      "subaru\n"
     ]
    }
   ],
   "source": [
    "cheap_prize = auto[auto['price'] == auto['price'].min()]['make'].iloc[0]\n",
    "print(cheap_prize)\n"
   ]
  },
  {
   "cell_type": "code",
   "execution_count": 13,
   "metadata": {
    "colab": {
     "base_uri": "https://localhost:8080/"
    },
    "id": "bxoYL21Y742D",
    "outputId": "b0928a0e-976f-44d8-b294-205ae633a1d9"
   },
   "outputs": [
    {
     "name": "stdout",
     "output_type": "stream",
     "text": [
      "mercedes-benz\n"
     ]
    }
   ],
   "source": [
    "costly = auto[auto['price'] == auto['price'].max()]['make'].iloc[0]\n",
    "print(costly)\n"
   ]
  },
  {
   "cell_type": "markdown",
   "metadata": {
    "id": "xMvmHC-N742F"
   },
   "source": [
    "**How many cars have horsepower greater than 100?**"
   ]
  },
  {
   "cell_type": "code",
   "execution_count": 14,
   "metadata": {
    "colab": {
     "base_uri": "https://localhost:8080/"
    },
    "id": "TiVs0ipq742G",
    "outputId": "02f7760f-7464-4def-a586-924e179d811c"
   },
   "outputs": [
    {
     "name": "stdout",
     "output_type": "stream",
     "text": [
      "90\n"
     ]
    }
   ],
   "source": [
    "horsepower= auto[auto['horsepower'] > 100].shape[0]\n",
    "print(horsepower)"
   ]
  },
  {
   "cell_type": "markdown",
   "metadata": {
    "id": "BxCVZJNC742I"
   },
   "source": [
    "**How many hatchback cars are in the dataset ?**"
   ]
  },
  {
   "cell_type": "code",
   "execution_count": 15,
   "metadata": {
    "colab": {
     "base_uri": "https://localhost:8080/"
    },
    "id": "9LrFtDpF742J",
    "outputId": "df705384-2eb6-4b38-d511-3312cfe8c4e2"
   },
   "outputs": [
    {
     "name": "stdout",
     "output_type": "stream",
     "text": [
      "68\n"
     ]
    }
   ],
   "source": [
    "hatchback_cars = auto[auto['body_style'] == 'hatchback'].shape[0]\n",
    "print(hatchback_cars)"
   ]
  },
  {
   "cell_type": "code",
   "execution_count": null,
   "metadata": {
    "colab": {
     "base_uri": "https://localhost:8080/"
    },
    "id": "nbr6QnTL-KmC",
    "outputId": "485d46bb-0101-4842-b28f-7f6ac0a7bab1"
   },
   "outputs": [],
   "source": []
  },
  {
   "cell_type": "markdown",
   "metadata": {
    "id": "BRLWunmC742L"
   },
   "source": [
    "**What are the 3 most commonly found cars in the dataset?**"
   ]
  },
  {
   "cell_type": "code",
   "execution_count": 16,
   "metadata": {
    "colab": {
     "base_uri": "https://localhost:8080/"
    },
    "id": "kS4gRLhB742M",
    "outputId": "0d7bb2f6-0ef5-4793-e309-b6953bd6dd67"
   },
   "outputs": [
    {
     "name": "stdout",
     "output_type": "stream",
     "text": [
      "make\n",
      "toyota    32\n",
      "nissan    18\n",
      "mazda     17\n",
      "Name: count, dtype: int64\n"
     ]
    }
   ],
   "source": [
    "top_3 = auto['make'].value_counts().head(3)\n",
    "print(top_3)"
   ]
  },
  {
   "cell_type": "code",
   "execution_count": null,
   "metadata": {
    "colab": {
     "base_uri": "https://localhost:8080/"
    },
    "id": "Js2slKSz-Z3T",
    "outputId": "2d9d8d27-d20e-4a74-d774-b2aa8a433321"
   },
   "outputs": [],
   "source": []
  },
  {
   "cell_type": "markdown",
   "metadata": {
    "id": "soDyFoWf742O"
   },
   "source": [
    "**Someone purchased a car for 7099, what is the make of the car?**"
   ]
  },
  {
   "cell_type": "code",
   "execution_count": 17,
   "metadata": {
    "colab": {
     "base_uri": "https://localhost:8080/"
    },
    "id": "X6lrqVpq742O",
    "outputId": "64ce0c5c-4232-4bcf-c93d-38d30aff443d"
   },
   "outputs": [
    {
     "name": "stdout",
     "output_type": "stream",
     "text": [
      "nissan\n"
     ]
    }
   ],
   "source": [
    "make = auto[auto['price'] == 7099]['make'].iloc[0]\n",
    "print(make)"
   ]
  },
  {
   "cell_type": "markdown",
   "metadata": {
    "id": "Dm97KFVj742T"
   },
   "source": [
    "**Which cars are priced greater than 40000?**"
   ]
  },
  {
   "cell_type": "code",
   "execution_count": 18,
   "metadata": {
    "colab": {
     "base_uri": "https://localhost:8080/"
    },
    "id": "KDsWpiuy742T",
    "outputId": "0f179fea-9e70-4371-a148-cf420b9d8f2b"
   },
   "outputs": [
    {
     "name": "stdout",
     "output_type": "stream",
     "text": [
      "    symboling  normalized_losses           make fuel_type aspiration  \\\n",
      "15          0                149            bmw       gas        std   \n",
      "70          0                140  mercedes-benz       gas        std   \n",
      "71          1                140  mercedes-benz       gas        std   \n",
      "\n",
      "   number_of_doors body_style drive_wheels engine_location  wheel_base  ...  \\\n",
      "15             two      sedan          rwd           front       103.5  ...   \n",
      "70            four      sedan          rwd           front       120.9  ...   \n",
      "71             two    hardtop          rwd           front       112.0  ...   \n",
      "\n",
      "    engine_size  fuel_system  bore  stroke compression_ratio horsepower  \\\n",
      "15          209         mpfi  3.62    3.39               8.0        182   \n",
      "70          308         mpfi  3.80    3.35               8.0        184   \n",
      "71          304         mpfi  3.80    3.35               8.0        184   \n",
      "\n",
      "    peak_rpm city_mpg  highway_mpg  price  \n",
      "15      5400       16           22  41315  \n",
      "70      4500       14           16  40960  \n",
      "71      4500       14           16  45400  \n",
      "\n",
      "[3 rows x 26 columns]\n"
     ]
    }
   ],
   "source": [
    "price = auto[auto['price'] > 40000]\n",
    "print(price)"
   ]
  },
  {
   "cell_type": "markdown",
   "metadata": {
    "id": "NNEkkEPY742X"
   },
   "source": [
    "**Which are the cars that are both a sedan and priced less than 7000?**"
   ]
  },
  {
   "cell_type": "code",
   "execution_count": 21,
   "metadata": {
    "colab": {
     "base_uri": "https://localhost:8080/"
    },
    "id": "XQ66ellN742X",
    "outputId": "c2e04298-24cf-40e5-b7ca-e95f9e8b35f3"
   },
   "outputs": [
    {
     "name": "stdout",
     "output_type": "stream",
     "text": [
      "     symboling  normalized_losses        make fuel_type aspiration  \\\n",
      "19           0                 81   chevrolet       gas        std   \n",
      "24           1                148       dodge       gas        std   \n",
      "42           0                110       isuzu       gas        std   \n",
      "50           1                113       mazda       gas        std   \n",
      "82           1                125  mitsubishi       gas        std   \n",
      "86           1                128      nissan       gas        std   \n",
      "88           1                128      nissan       gas        std   \n",
      "89           1                122      nissan       gas        std   \n",
      "118          1                154    plymouth       gas        std   \n",
      "152          0                 91      toyota       gas        std   \n",
      "\n",
      "    number_of_doors body_style drive_wheels engine_location  wheel_base  ...  \\\n",
      "19             four      sedan          fwd           front        94.5  ...   \n",
      "24             four      sedan          fwd           front        93.7  ...   \n",
      "42             four      sedan          rwd           front        94.3  ...   \n",
      "50             four      sedan          fwd           front        93.1  ...   \n",
      "82             four      sedan          fwd           front        96.3  ...   \n",
      "86              two      sedan          fwd           front        94.5  ...   \n",
      "88              two      sedan          fwd           front        94.5  ...   \n",
      "89             four      sedan          fwd           front        94.5  ...   \n",
      "118            four      sedan          fwd           front        93.7  ...   \n",
      "152            four      sedan          fwd           front        95.7  ...   \n",
      "\n",
      "     engine_size  fuel_system  bore  stroke compression_ratio horsepower  \\\n",
      "19            90         2bbl  3.03    3.11               9.6         70   \n",
      "24            90         2bbl  2.97    3.23               9.4         68   \n",
      "42           111         2bbl  3.31    3.23               8.5         78   \n",
      "50            91         2bbl  3.03    3.15               9.0         68   \n",
      "82           122         2bbl  3.35    3.46               8.5         88   \n",
      "86            97         2bbl  3.15    3.29               9.4         69   \n",
      "88            97         2bbl  3.15    3.29               9.4         69   \n",
      "89            97         2bbl  3.15    3.29               9.4         69   \n",
      "118           90         2bbl  2.97    3.23               9.4         68   \n",
      "152           98         2bbl  3.19    3.03               9.0         70   \n",
      "\n",
      "     peak_rpm city_mpg  highway_mpg  price  \n",
      "19       5400       38           43   6575  \n",
      "24       5500       31           38   6692  \n",
      "42       4800       24           29   6785  \n",
      "50       5000       31           38   6695  \n",
      "82       5000       25           32   6989  \n",
      "86       5200       31           37   5499  \n",
      "88       5200       31           37   6649  \n",
      "89       5200       31           37   6849  \n",
      "118      5500       31           38   6692  \n",
      "152      4800       30           37   6938  \n",
      "\n",
      "[10 rows x 26 columns]\n"
     ]
    }
   ],
   "source": [
    "sedan_car = auto.loc[(auto['body_style'] == 'sedan') & (auto['price'] < 7000)]\n",
    "print(sedan_car)"
   ]
  },
  {
   "cell_type": "markdown",
   "metadata": {},
   "source": [
    " **Count the number of unique values in the `fuel_type` column.**"
   ]
  },
  {
   "cell_type": "code",
   "execution_count": 23,
   "metadata": {},
   "outputs": [
    {
     "name": "stdout",
     "output_type": "stream",
     "text": [
      "2\n"
     ]
    }
   ],
   "source": [
    "uni=auto['fuel_type'].nunique()\n",
    "print(uni)"
   ]
  },
  {
   "cell_type": "markdown",
   "metadata": {},
   "source": [
    "**List all the cars that have a horsepower between 100 and 200, and display their `make`, `horsepower`, and `price`.**"
   ]
  },
  {
   "cell_type": "code",
   "execution_count": 24,
   "metadata": {},
   "outputs": [
    {
     "name": "stdout",
     "output_type": "stream",
     "text": [
      "            make  horsepower  price\n",
      "0    alfa-romero         111  13495\n",
      "1    alfa-romero         111  16500\n",
      "2    alfa-romero         154  16500\n",
      "3           audi         102  13950\n",
      "4           audi         115  17450\n",
      "..           ...         ...    ...\n",
      "196        volvo         114  16845\n",
      "197        volvo         160  19045\n",
      "198        volvo         134  21485\n",
      "199        volvo         106  22470\n",
      "200        volvo         114  22625\n",
      "\n",
      "[88 rows x 3 columns]\n"
     ]
    }
   ],
   "source": [
    "cars=auto[(auto['horsepower'] >= 100) & (auto['horsepower'] <= 200)]\n",
    "result=cars[['make', 'horsepower', 'price']]\n",
    "print(result)"
   ]
  },
  {
   "cell_type": "markdown",
   "metadata": {},
   "source": [
    "**Find the average `city_mpg` and `highway_mpg` for each `body_style`.**"
   ]
  },
  {
   "cell_type": "code",
   "execution_count": 25,
   "metadata": {},
   "outputs": [
    {
     "name": "stdout",
     "output_type": "stream",
     "text": [
      "              city_mpg  highway_mpg\n",
      "body_style                         \n",
      "convertible  20.500000    26.000000\n",
      "hardtop      21.625000    27.250000\n",
      "hatchback    26.602941    32.382353\n",
      "sedan        25.053191    30.574468\n",
      "wagon        24.040000    28.720000\n"
     ]
    }
   ],
   "source": [
    "avg_mpg =auto.groupby('body_style')[['city_mpg', 'highway_mpg']].mean()\n",
    "print(avg_mpg)"
   ]
  },
  {
   "cell_type": "markdown",
   "metadata": {},
   "source": [
    "**What is the median `price` for each `make`?**"
   ]
  },
  {
   "cell_type": "code",
   "execution_count": 26,
   "metadata": {},
   "outputs": [
    {
     "name": "stdout",
     "output_type": "stream",
     "text": [
      "make\n",
      "alfa-romero      16500.0\n",
      "audi             17580.0\n",
      "bmw              22835.0\n",
      "chevrolet         6295.0\n",
      "dodge             7609.0\n",
      "honda             7295.0\n",
      "isuzu             8916.5\n",
      "jaguar           35550.0\n",
      "mazda            10595.0\n",
      "mercedes-benz    32892.0\n",
      "mercury          16503.0\n",
      "mitsubishi        8499.0\n",
      "nissan            8124.0\n",
      "peugot           16630.0\n",
      "plymouth          7609.0\n",
      "porsche          33278.0\n",
      "renault           9595.0\n",
      "saab             15275.0\n",
      "subaru            7894.0\n",
      "toyota            9103.0\n",
      "volkswagen        9737.5\n",
      "volvo            18420.0\n",
      "Name: price, dtype: float64\n"
     ]
    }
   ],
   "source": [
    "median_price= auto.groupby('make')['price'].median()\n",
    "print(median_price)"
   ]
  },
  {
   "cell_type": "markdown",
   "metadata": {},
   "source": [
    "**List all cars that have a `wheel_base` greater than 100 and a `curb_weight` less than 2500.**"
   ]
  },
  {
   "cell_type": "code",
   "execution_count": 27,
   "metadata": {},
   "outputs": [
    {
     "name": "stdout",
     "output_type": "stream",
     "text": [
      "     symboling  normalized_losses    make fuel_type aspiration  \\\n",
      "9            2                192     bmw       gas        std   \n",
      "10           0                192     bmw       gas        std   \n",
      "169         -1                 65  toyota       gas        std   \n",
      "170         -1                 65  toyota    diesel      turbo   \n",
      "171         -1                 65  toyota       gas        std   \n",
      "172         -1                 65  toyota       gas        std   \n",
      "173         -1                 65  toyota       gas        std   \n",
      "\n",
      "    number_of_doors body_style drive_wheels engine_location  wheel_base  ...  \\\n",
      "9               two      sedan          rwd           front       101.2  ...   \n",
      "10             four      sedan          rwd           front       101.2  ...   \n",
      "169            four      sedan          fwd           front       102.4  ...   \n",
      "170            four      sedan          fwd           front       102.4  ...   \n",
      "171            four  hatchback          fwd           front       102.4  ...   \n",
      "172            four      sedan          fwd           front       102.4  ...   \n",
      "173            four  hatchback          fwd           front       102.4  ...   \n",
      "\n",
      "     engine_size  fuel_system  bore  stroke compression_ratio horsepower  \\\n",
      "9            108         mpfi  3.50    2.80               8.8        101   \n",
      "10           108         mpfi  3.50    2.80               8.8        101   \n",
      "169          122         mpfi  3.31    3.54               8.7         92   \n",
      "170          110          idi  3.27    3.35              22.5         73   \n",
      "171          122         mpfi  3.31    3.54               8.7         92   \n",
      "172          122         mpfi  3.31    3.54               8.7         92   \n",
      "173          122         mpfi  3.31    3.54               8.7         92   \n",
      "\n",
      "     peak_rpm city_mpg  highway_mpg  price  \n",
      "9        5800       23           29  16430  \n",
      "10       5800       23           29  16925  \n",
      "169      4200       29           34   8948  \n",
      "170      4500       30           33  10698  \n",
      "171      4200       27           32   9988  \n",
      "172      4200       27           32  10898  \n",
      "173      4200       27           32  11248  \n",
      "\n",
      "[7 rows x 26 columns]\n"
     ]
    }
   ],
   "source": [
    "fil=auto[(auto['wheel_base'] > 100) & (auto['curb_weight'] < 2500)]\n",
    "print(fil)"
   ]
  },
  {
   "cell_type": "markdown",
   "metadata": {},
   "source": [
    "**Create a new column `price_per_hp` that calculates the price of the car per horsepower.**"
   ]
  },
  {
   "cell_type": "code",
   "execution_count": 28,
   "metadata": {},
   "outputs": [
    {
     "name": "stdout",
     "output_type": "stream",
     "text": [
      "     price  horsepower  price_per_hp\n",
      "0    13495         111    121.576577\n",
      "1    16500         111    148.648649\n",
      "2    16500         154    107.142857\n",
      "3    13950         102    136.764706\n",
      "4    17450         115    151.739130\n",
      "..     ...         ...           ...\n",
      "196  16845         114    147.763158\n",
      "197  19045         160    119.031250\n",
      "198  21485         134    160.335821\n",
      "199  22470         106    211.981132\n",
      "200  22625         114    198.464912\n",
      "\n",
      "[201 rows x 3 columns]\n"
     ]
    }
   ],
   "source": [
    "auto['price_per_hp'] =auto['price'] /auto['horsepower']\n",
    "print(auto[['price', 'horsepower', 'price_per_hp']])"
   ]
  },
  {
   "cell_type": "markdown",
   "metadata": {},
   "source": [
    "**Count how many cars have a `number_of_doors` as `four`.**"
   ]
  },
  {
   "cell_type": "code",
   "execution_count": 30,
   "metadata": {},
   "outputs": [
    {
     "name": "stdout",
     "output_type": "stream",
     "text": [
      "114\n"
     ]
    }
   ],
   "source": [
    "door_cars = len(auto[auto['number_of_doors'] == 'four'])\n",
    "print(door_cars)"
   ]
  },
  {
   "cell_type": "markdown",
   "metadata": {},
   "source": [
    "**Find the top 5 cars based on their `highway_mpg` and `price`.**"
   ]
  },
  {
   "cell_type": "code",
   "execution_count": 31,
   "metadata": {},
   "outputs": [
    {
     "name": "stdout",
     "output_type": "stream",
     "text": [
      "     highway_mpg  price\n",
      "29            54   6479\n",
      "17            53   5151\n",
      "87            50   7099\n",
      "155           47   7788\n",
      "156           47   7738\n"
     ]
    }
   ],
   "source": [
    "top_5 = auto.sort_values(by=['highway_mpg', 'price'], ascending=False).head(5)\n",
    "print(top_5[['highway_mpg', 'price']])"
   ]
  },
  {
   "cell_type": "markdown",
   "metadata": {},
   "source": [
    "**How many cars have missing values in the `normalized_losses` column?**"
   ]
  },
  {
   "cell_type": "code",
   "execution_count": 32,
   "metadata": {},
   "outputs": [
    {
     "name": "stdout",
     "output_type": "stream",
     "text": [
      "0\n"
     ]
    }
   ],
   "source": [
    "missing=auto['normalized_losses'].isnull().sum()\n",
    "print(missing)"
   ]
  },
  {
   "cell_type": "markdown",
   "metadata": {},
   "source": [
    "**Create a new column `car_age` that calculates the age of the car based on the `year_of_manufacture` (assume the current year is 2025).**"
   ]
  },
  {
   "cell_type": "code",
   "execution_count": null,
   "metadata": {},
   "outputs": [],
   "source": []
  },
  {
   "cell_type": "markdown",
   "metadata": {
    "id": "lUpH8N1Y742a"
   },
   "source": [
    "### The END"
   ]
  }
 ],
 "metadata": {
  "colab": {
   "collapsed_sections": [],
   "include_colab_link": true,
   "name": "Pandas Lab Exercise (kaggle automobile dataset).ipynb",
   "provenance": []
  },
  "kernelspec": {
   "display_name": "Python 3 (ipykernel)",
   "language": "python",
   "name": "python3"
  },
  "language_info": {
   "codemirror_mode": {
    "name": "ipython",
    "version": 3
   },
   "file_extension": ".py",
   "mimetype": "text/x-python",
   "name": "python",
   "nbconvert_exporter": "python",
   "pygments_lexer": "ipython3",
   "version": "3.11.5"
  }
 },
 "nbformat": 4,
 "nbformat_minor": 4
}
