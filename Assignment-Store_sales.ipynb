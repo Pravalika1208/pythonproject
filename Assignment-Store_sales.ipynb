{
  "metadata": {
    "kernelspec": {
      "name": "python",
      "display_name": "Python (Pyodide)",
      "language": "python"
    },
    "language_info": {
      "codemirror_mode": {
        "name": "python",
        "version": 3
      },
      "file_extension": ".py",
      "mimetype": "text/x-python",
      "name": "python",
      "nbconvert_exporter": "python",
      "pygments_lexer": "ipython3",
      "version": "3.8"
    }
  },
  "nbformat_minor": 5,
  "nbformat": 4,
  "cells": [
    {
      "id": "d736cf34-e043-4789-91b0-c19887e0143f",
      "cell_type": "markdown",
      "source": "# Assignment on Store_sales dataset\n\n**Load the Dataset**",
      "metadata": {
        "tags": [],
        "editable": true,
        "slideshow": {
          "slide_type": ""
        }
      }
    },
    {
      "id": "fd79e268-0bd3-4844-af8d-0b1e2b7ceea6",
      "cell_type": "code",
      "source": "import pandas as pd\nstore_sales=pd.read_csv(\"store_sales.csv\")                     \nstore_sales.head()",
      "metadata": {
        "trusted": true,
        "scrolled": true
      },
      "outputs": [
        {
          "execution_count": 5,
          "output_type": "execute_result",
          "data": {
            "text/plain": "  store_id        city  Jan  Feb  Mar  Apr  May  Jun  July  Aug  Sep  Oct  \\\n0      S_1       Texas    8   20   13   21   17   20    24   17   16    9   \n1      S_2  California   12   19   15   15   11   19     7   15   10   11   \n2      S_3  California   16   16   14   19   23    6    13   13   15   14   \n3      S_4       Texas    8   18   13   10   14   14     6    8    8   18   \n4      S_5       Texas   19    5   24    9    5   24    10    5   24   15   \n\n   Nov  Dec  \n0    7    6  \n1   21   19  \n2   24    8  \n3    7   11  \n4    6   13  ",
            "text/html": "<div>\n<style scoped>\n    .dataframe tbody tr th:only-of-type {\n        vertical-align: middle;\n    }\n\n    .dataframe tbody tr th {\n        vertical-align: top;\n    }\n\n    .dataframe thead th {\n        text-align: right;\n    }\n</style>\n<table border=\"1\" class=\"dataframe\">\n  <thead>\n    <tr style=\"text-align: right;\">\n      <th></th>\n      <th>store_id</th>\n      <th>city</th>\n      <th>Jan</th>\n      <th>Feb</th>\n      <th>Mar</th>\n      <th>Apr</th>\n      <th>May</th>\n      <th>Jun</th>\n      <th>July</th>\n      <th>Aug</th>\n      <th>Sep</th>\n      <th>Oct</th>\n      <th>Nov</th>\n      <th>Dec</th>\n    </tr>\n  </thead>\n  <tbody>\n    <tr>\n      <th>0</th>\n      <td>S_1</td>\n      <td>Texas</td>\n      <td>8</td>\n      <td>20</td>\n      <td>13</td>\n      <td>21</td>\n      <td>17</td>\n      <td>20</td>\n      <td>24</td>\n      <td>17</td>\n      <td>16</td>\n      <td>9</td>\n      <td>7</td>\n      <td>6</td>\n    </tr>\n    <tr>\n      <th>1</th>\n      <td>S_2</td>\n      <td>California</td>\n      <td>12</td>\n      <td>19</td>\n      <td>15</td>\n      <td>15</td>\n      <td>11</td>\n      <td>19</td>\n      <td>7</td>\n      <td>15</td>\n      <td>10</td>\n      <td>11</td>\n      <td>21</td>\n      <td>19</td>\n    </tr>\n    <tr>\n      <th>2</th>\n      <td>S_3</td>\n      <td>California</td>\n      <td>16</td>\n      <td>16</td>\n      <td>14</td>\n      <td>19</td>\n      <td>23</td>\n      <td>6</td>\n      <td>13</td>\n      <td>13</td>\n      <td>15</td>\n      <td>14</td>\n      <td>24</td>\n      <td>8</td>\n    </tr>\n    <tr>\n      <th>3</th>\n      <td>S_4</td>\n      <td>Texas</td>\n      <td>8</td>\n      <td>18</td>\n      <td>13</td>\n      <td>10</td>\n      <td>14</td>\n      <td>14</td>\n      <td>6</td>\n      <td>8</td>\n      <td>8</td>\n      <td>18</td>\n      <td>7</td>\n      <td>11</td>\n    </tr>\n    <tr>\n      <th>4</th>\n      <td>S_5</td>\n      <td>Texas</td>\n      <td>19</td>\n      <td>5</td>\n      <td>24</td>\n      <td>9</td>\n      <td>5</td>\n      <td>24</td>\n      <td>10</td>\n      <td>5</td>\n      <td>24</td>\n      <td>15</td>\n      <td>6</td>\n      <td>13</td>\n    </tr>\n  </tbody>\n</table>\n</div>"
          },
          "metadata": {}
        }
      ],
      "execution_count": 5
    },
    {
      "id": "13b8009e-28aa-4c56-8804-a6c417182541",
      "cell_type": "markdown",
      "source": "**Calculate the total sales for each store across all months.**",
      "metadata": {}
    },
    {
      "id": "3f148a00-b0e5-4caf-85d3-3483c4f62697",
      "cell_type": "code",
      "source": "store_sales['TotalSales']=store_sales.iloc[:,2:].sum(axis=1)\nprint(store_sales[['store_id','TotalSales']])",
      "metadata": {
        "trusted": true
      },
      "outputs": [
        {
          "name": "stdout",
          "output_type": "stream",
          "text": "   store_id  TotalSales\n0       S_1         178\n1       S_2         174\n2       S_3         181\n3       S_4         135\n4       S_5         159\n..      ...         ...\n95     S_96         185\n96     S_97         154\n97     S_98         168\n98     S_99         173\n99    S_100         180\n\n[100 rows x 2 columns]\n"
        }
      ],
      "execution_count": 6
    },
    {
      "id": "47673b50-bfea-4eb6-9e50-918e87c7c1ff",
      "cell_type": "markdown",
      "source": "**Find the average sales for each month across all stores**",
      "metadata": {}
    },
    {
      "id": "cfea1028-bd85-4552-ab60-936a13c7d84b",
      "cell_type": "code",
      "source": "avg=store_sales.iloc[:,2:].mean()\nprint(avg)",
      "metadata": {
        "trusted": true
      },
      "outputs": [
        {
          "name": "stdout",
          "output_type": "stream",
          "text": "Jan            14.46\nFeb            15.09\nMar            14.56\nApr            14.57\nMay            13.56\nJun            13.80\nJuly           14.38\nAug            15.81\nSep            14.91\nOct            14.10\nNov            15.31\nDec            13.57\nTotalSales    174.12\ndtype: float64\n"
        }
      ],
      "execution_count": 15
    },
    {
      "id": "6dd912e0-9984-42b8-9bf0-db10a69a300c",
      "cell_type": "markdown",
      "source": "**Identify the store with the highest total sales.**",
      "metadata": {}
    },
    {
      "id": "dca54b78-dbe5-4095-8e14-e1a73c34dff6",
      "cell_type": "code",
      "source": "high=store_sales[store_sales['TotalSales']==store_sales['TotalSales'].max()]\nhigh",
      "metadata": {
        "trusted": true
      },
      "outputs": [
        {
          "execution_count": 10,
          "output_type": "execute_result",
          "data": {
            "text/plain": "   store_id        city  Jan  Feb  Mar  Apr  May  Jun  July  Aug  Sep  Oct  \\\n61     S_62  California   16   21    6   22   22    9    21   21   22   17   \n85     S_86  California   15   23   24   18   21   17    23   13   12   11   \n\n    Nov  Dec  TotalSales  \n61   16   21         214  \n85   24   13         214  ",
            "text/html": "<div>\n<style scoped>\n    .dataframe tbody tr th:only-of-type {\n        vertical-align: middle;\n    }\n\n    .dataframe tbody tr th {\n        vertical-align: top;\n    }\n\n    .dataframe thead th {\n        text-align: right;\n    }\n</style>\n<table border=\"1\" class=\"dataframe\">\n  <thead>\n    <tr style=\"text-align: right;\">\n      <th></th>\n      <th>store_id</th>\n      <th>city</th>\n      <th>Jan</th>\n      <th>Feb</th>\n      <th>Mar</th>\n      <th>Apr</th>\n      <th>May</th>\n      <th>Jun</th>\n      <th>July</th>\n      <th>Aug</th>\n      <th>Sep</th>\n      <th>Oct</th>\n      <th>Nov</th>\n      <th>Dec</th>\n      <th>TotalSales</th>\n    </tr>\n  </thead>\n  <tbody>\n    <tr>\n      <th>61</th>\n      <td>S_62</td>\n      <td>California</td>\n      <td>16</td>\n      <td>21</td>\n      <td>6</td>\n      <td>22</td>\n      <td>22</td>\n      <td>9</td>\n      <td>21</td>\n      <td>21</td>\n      <td>22</td>\n      <td>17</td>\n      <td>16</td>\n      <td>21</td>\n      <td>214</td>\n    </tr>\n    <tr>\n      <th>85</th>\n      <td>S_86</td>\n      <td>California</td>\n      <td>15</td>\n      <td>23</td>\n      <td>24</td>\n      <td>18</td>\n      <td>21</td>\n      <td>17</td>\n      <td>23</td>\n      <td>13</td>\n      <td>12</td>\n      <td>11</td>\n      <td>24</td>\n      <td>13</td>\n      <td>214</td>\n    </tr>\n  </tbody>\n</table>\n</div>"
          },
          "metadata": {}
        }
      ],
      "execution_count": 10
    },
    {
      "id": "1c6e048a-7dbe-4975-8126-0ff9d46d0b8d",
      "cell_type": "markdown",
      "source": "**Calculate the total sales for each city.**",
      "metadata": {}
    },
    {
      "id": "98fdf5f3-5721-4353-b34d-713e98c20450",
      "cell_type": "code",
      "source": "city_sales=store_sales.groupby('city').sum(numeric_only=True)\ncity_sales",
      "metadata": {
        "trusted": true
      },
      "outputs": [
        {
          "execution_count": 11,
          "output_type": "execute_result",
          "data": {
            "text/plain": "            Jan  Feb  Mar  Apr  May  Jun  July  Aug  Sep  Oct  Nov  Dec  \\\ncity                                                                      \nArizona     341  336  320  329  310  332   322  341  337  329  361  293   \nCalifornia  634  668  629  601  570  589   637  698  640  614  657  585   \nTexas       471  505  507  527  476  459   479  542  514  467  513  479   \n\n            TotalSales  \ncity                    \nArizona           3951  \nCalifornia        7522  \nTexas             5939  ",
            "text/html": "<div>\n<style scoped>\n    .dataframe tbody tr th:only-of-type {\n        vertical-align: middle;\n    }\n\n    .dataframe tbody tr th {\n        vertical-align: top;\n    }\n\n    .dataframe thead th {\n        text-align: right;\n    }\n</style>\n<table border=\"1\" class=\"dataframe\">\n  <thead>\n    <tr style=\"text-align: right;\">\n      <th></th>\n      <th>Jan</th>\n      <th>Feb</th>\n      <th>Mar</th>\n      <th>Apr</th>\n      <th>May</th>\n      <th>Jun</th>\n      <th>July</th>\n      <th>Aug</th>\n      <th>Sep</th>\n      <th>Oct</th>\n      <th>Nov</th>\n      <th>Dec</th>\n      <th>TotalSales</th>\n    </tr>\n    <tr>\n      <th>city</th>\n      <th></th>\n      <th></th>\n      <th></th>\n      <th></th>\n      <th></th>\n      <th></th>\n      <th></th>\n      <th></th>\n      <th></th>\n      <th></th>\n      <th></th>\n      <th></th>\n      <th></th>\n    </tr>\n  </thead>\n  <tbody>\n    <tr>\n      <th>Arizona</th>\n      <td>341</td>\n      <td>336</td>\n      <td>320</td>\n      <td>329</td>\n      <td>310</td>\n      <td>332</td>\n      <td>322</td>\n      <td>341</td>\n      <td>337</td>\n      <td>329</td>\n      <td>361</td>\n      <td>293</td>\n      <td>3951</td>\n    </tr>\n    <tr>\n      <th>California</th>\n      <td>634</td>\n      <td>668</td>\n      <td>629</td>\n      <td>601</td>\n      <td>570</td>\n      <td>589</td>\n      <td>637</td>\n      <td>698</td>\n      <td>640</td>\n      <td>614</td>\n      <td>657</td>\n      <td>585</td>\n      <td>7522</td>\n    </tr>\n    <tr>\n      <th>Texas</th>\n      <td>471</td>\n      <td>505</td>\n      <td>507</td>\n      <td>527</td>\n      <td>476</td>\n      <td>459</td>\n      <td>479</td>\n      <td>542</td>\n      <td>514</td>\n      <td>467</td>\n      <td>513</td>\n      <td>479</td>\n      <td>5939</td>\n    </tr>\n  </tbody>\n</table>\n</div>"
          },
          "metadata": {}
        }
      ],
      "execution_count": 11
    },
    {
      "id": "b9cd0e10-c37e-485a-9b6b-e6a67cd19c7d",
      "cell_type": "markdown",
      "source": "**List stores with total sales greater than 200**",
      "metadata": {}
    },
    {
      "id": "a1134ab7-96fe-416c-8da1-daddad0064e6",
      "cell_type": "code",
      "source": "stores=store_sales[store_sales['TotalSales']>200]\nstores",
      "metadata": {
        "trusted": true
      },
      "outputs": [
        {
          "execution_count": 13,
          "output_type": "execute_result",
          "data": {
            "text/plain": "   store_id        city  Jan  Feb  Mar  Apr  May  Jun  July  Aug  Sep  Oct  \\\n37     S_38  California   21   10   13   11   11   14    24   24   24   21   \n39     S_40       Texas   22   21   13   13   14   15     6   24   16   23   \n50     S_51     Arizona   17   23   14   19   23   12    20   21   13   18   \n61     S_62  California   16   21    6   22   22    9    21   21   22   17   \n69     S_70       Texas   24   16   24   20   14   21    15   13   18   22   \n72     S_73  California   20   24   24   18    7   22    12   21   20   18   \n77     S_78     Arizona   19   23   19   24   13   12    24   17   22   16   \n85     S_86  California   15   23   24   18   21   17    23   13   12   11   \n86     S_87       Texas   19   20   10   13   12    5    20   23   21   14   \n92     S_93  California   20   13   15   12   15   19    21   22   10   21   \n\n    Nov  Dec  TotalSales  \n37   16   18         207  \n39   13   24         204  \n50    6   24         210  \n61   16   21         214  \n69   10    9         206  \n72   21    6         213  \n77   17    5         211  \n85   24   13         214  \n86   24   22         203  \n92   23   13         204  ",
            "text/html": "<div>\n<style scoped>\n    .dataframe tbody tr th:only-of-type {\n        vertical-align: middle;\n    }\n\n    .dataframe tbody tr th {\n        vertical-align: top;\n    }\n\n    .dataframe thead th {\n        text-align: right;\n    }\n</style>\n<table border=\"1\" class=\"dataframe\">\n  <thead>\n    <tr style=\"text-align: right;\">\n      <th></th>\n      <th>store_id</th>\n      <th>city</th>\n      <th>Jan</th>\n      <th>Feb</th>\n      <th>Mar</th>\n      <th>Apr</th>\n      <th>May</th>\n      <th>Jun</th>\n      <th>July</th>\n      <th>Aug</th>\n      <th>Sep</th>\n      <th>Oct</th>\n      <th>Nov</th>\n      <th>Dec</th>\n      <th>TotalSales</th>\n    </tr>\n  </thead>\n  <tbody>\n    <tr>\n      <th>37</th>\n      <td>S_38</td>\n      <td>California</td>\n      <td>21</td>\n      <td>10</td>\n      <td>13</td>\n      <td>11</td>\n      <td>11</td>\n      <td>14</td>\n      <td>24</td>\n      <td>24</td>\n      <td>24</td>\n      <td>21</td>\n      <td>16</td>\n      <td>18</td>\n      <td>207</td>\n    </tr>\n    <tr>\n      <th>39</th>\n      <td>S_40</td>\n      <td>Texas</td>\n      <td>22</td>\n      <td>21</td>\n      <td>13</td>\n      <td>13</td>\n      <td>14</td>\n      <td>15</td>\n      <td>6</td>\n      <td>24</td>\n      <td>16</td>\n      <td>23</td>\n      <td>13</td>\n      <td>24</td>\n      <td>204</td>\n    </tr>\n    <tr>\n      <th>50</th>\n      <td>S_51</td>\n      <td>Arizona</td>\n      <td>17</td>\n      <td>23</td>\n      <td>14</td>\n      <td>19</td>\n      <td>23</td>\n      <td>12</td>\n      <td>20</td>\n      <td>21</td>\n      <td>13</td>\n      <td>18</td>\n      <td>6</td>\n      <td>24</td>\n      <td>210</td>\n    </tr>\n    <tr>\n      <th>61</th>\n      <td>S_62</td>\n      <td>California</td>\n      <td>16</td>\n      <td>21</td>\n      <td>6</td>\n      <td>22</td>\n      <td>22</td>\n      <td>9</td>\n      <td>21</td>\n      <td>21</td>\n      <td>22</td>\n      <td>17</td>\n      <td>16</td>\n      <td>21</td>\n      <td>214</td>\n    </tr>\n    <tr>\n      <th>69</th>\n      <td>S_70</td>\n      <td>Texas</td>\n      <td>24</td>\n      <td>16</td>\n      <td>24</td>\n      <td>20</td>\n      <td>14</td>\n      <td>21</td>\n      <td>15</td>\n      <td>13</td>\n      <td>18</td>\n      <td>22</td>\n      <td>10</td>\n      <td>9</td>\n      <td>206</td>\n    </tr>\n    <tr>\n      <th>72</th>\n      <td>S_73</td>\n      <td>California</td>\n      <td>20</td>\n      <td>24</td>\n      <td>24</td>\n      <td>18</td>\n      <td>7</td>\n      <td>22</td>\n      <td>12</td>\n      <td>21</td>\n      <td>20</td>\n      <td>18</td>\n      <td>21</td>\n      <td>6</td>\n      <td>213</td>\n    </tr>\n    <tr>\n      <th>77</th>\n      <td>S_78</td>\n      <td>Arizona</td>\n      <td>19</td>\n      <td>23</td>\n      <td>19</td>\n      <td>24</td>\n      <td>13</td>\n      <td>12</td>\n      <td>24</td>\n      <td>17</td>\n      <td>22</td>\n      <td>16</td>\n      <td>17</td>\n      <td>5</td>\n      <td>211</td>\n    </tr>\n    <tr>\n      <th>85</th>\n      <td>S_86</td>\n      <td>California</td>\n      <td>15</td>\n      <td>23</td>\n      <td>24</td>\n      <td>18</td>\n      <td>21</td>\n      <td>17</td>\n      <td>23</td>\n      <td>13</td>\n      <td>12</td>\n      <td>11</td>\n      <td>24</td>\n      <td>13</td>\n      <td>214</td>\n    </tr>\n    <tr>\n      <th>86</th>\n      <td>S_87</td>\n      <td>Texas</td>\n      <td>19</td>\n      <td>20</td>\n      <td>10</td>\n      <td>13</td>\n      <td>12</td>\n      <td>5</td>\n      <td>20</td>\n      <td>23</td>\n      <td>21</td>\n      <td>14</td>\n      <td>24</td>\n      <td>22</td>\n      <td>203</td>\n    </tr>\n    <tr>\n      <th>92</th>\n      <td>S_93</td>\n      <td>California</td>\n      <td>20</td>\n      <td>13</td>\n      <td>15</td>\n      <td>12</td>\n      <td>15</td>\n      <td>19</td>\n      <td>21</td>\n      <td>22</td>\n      <td>10</td>\n      <td>21</td>\n      <td>23</td>\n      <td>13</td>\n      <td>204</td>\n    </tr>\n  </tbody>\n</table>\n</div>"
          },
          "metadata": {}
        }
      ],
      "execution_count": 13
    },
    {
      "id": "00a46208-69b2-4577-9f68-c278af43c557",
      "cell_type": "markdown",
      "source": "**Which month had the highest average sales across all stores?**\n",
      "metadata": {}
    },
    {
      "id": "9b85a613-a4b4-499c-9782-97e585120f52",
      "cell_type": "code",
      "source": "avg_sales=store_sales.iloc[:,2:].mean()\nhigh_avg=avg_sales.idxmax()\nprint(high_avg)",
      "metadata": {
        "trusted": true
      },
      "outputs": [
        {
          "name": "stdout",
          "output_type": "stream",
          "text": "Aug\n"
        }
      ],
      "execution_count": 22
    },
    {
      "id": "c46bc5fe-5318-45d2-95ca-e7a9eb0c2010",
      "cell_type": "code",
      "source": "",
      "metadata": {},
      "outputs": [],
      "execution_count": null
    },
    {
      "id": "37455b7e-1c05-45d5-9dd1-454527319264",
      "cell_type": "markdown",
      "source": "**Which city generated the most revenue?**",
      "metadata": {}
    },
    {
      "id": "0ceea861-e5f6-4a86-86f0-788d68a898a5",
      "cell_type": "code",
      "source": "store_sales['TotalSales']=store_sales.iloc[:,2:].sum(axis=1)\ncity_sales=store_sales.groupby('city')['TotalSales'].sum()\nhigh_sales=city_sales.idxmax()\nprint(high_sales)",
      "metadata": {
        "trusted": true
      },
      "outputs": [
        {
          "name": "stdout",
          "output_type": "stream",
          "text": "California\n"
        }
      ],
      "execution_count": 23
    },
    {
      "id": "e60c6e22-3cd6-4210-a9e3-aa3bb358f3d2",
      "cell_type": "code",
      "source": "",
      "metadata": {
        "trusted": true
      },
      "outputs": [],
      "execution_count": null
    }
  ]
}